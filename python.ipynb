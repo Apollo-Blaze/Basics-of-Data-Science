{
 "cells": [
  {
   "cell_type": "code",
   "execution_count": 9,
   "id": "a4ce4a4e-f53c-4557-a575-991bbe90dd84",
   "metadata": {},
   "outputs": [
    {
     "name": "stdout",
     "output_type": "stream",
     "text": [
      "Hello\n"
     ]
    }
   ],
   "source": [
    "print(\"Hello\")\n"
   ]
  },
  {
   "cell_type": "code",
   "execution_count": 11,
   "id": "be77eefd-c8d7-4ac7-9246-678782fd10e5",
   "metadata": {},
   "outputs": [
    {
     "data": {
      "text/plain": [
       "16"
      ]
     },
     "execution_count": 11,
     "metadata": {},
     "output_type": "execute_result"
    }
   ],
   "source": [
    "2**4\n"
   ]
  },
  {
   "cell_type": "code",
   "execution_count": 13,
   "id": "a6e37c4d-1daf-4242-a91f-d26b8a8d8769",
   "metadata": {},
   "outputs": [
    {
     "data": {
      "text/plain": [
       "8"
      ]
     },
     "execution_count": 13,
     "metadata": {},
     "output_type": "execute_result"
    }
   ],
   "source": [
    "2**3"
   ]
  },
  {
   "cell_type": "code",
   "execution_count": 15,
   "id": "b25d9987-46ab-4846-83b5-167d42f4d41a",
   "metadata": {},
   "outputs": [
    {
     "data": {
      "text/plain": [
       "2417851639229258349412352"
      ]
     },
     "execution_count": 15,
     "metadata": {},
     "output_type": "execute_result"
    }
   ],
   "source": [
    "2**3**4"
   ]
  },
  {
   "cell_type": "code",
   "execution_count": 17,
   "id": "44c3a723-14b7-4147-b8ae-dbd4bed75287",
   "metadata": {},
   "outputs": [
    {
     "data": {
      "text/plain": [
       "512"
      ]
     },
     "execution_count": 17,
     "metadata": {},
     "output_type": "execute_result"
    }
   ],
   "source": [
    "2**3**2\n"
   ]
  },
  {
   "cell_type": "code",
   "execution_count": 3,
   "id": "5b66aa25-0ea6-4eed-a3dc-5715172a8c79",
   "metadata": {},
   "outputs": [
    {
     "name": "stdout",
     "output_type": "stream",
     "text": [
      "Value is : 0\n",
      "Value is : 1\n",
      "Value is : 2\n",
      "Value is : 3\n",
      "Value is : 4\n"
     ]
    }
   ],
   "source": [
    "i=0\n",
    "while i<5:\n",
    "    print('Value is : {}'.format(i))\n",
    "    i+=1"
   ]
  },
  {
   "cell_type": "code",
   "execution_count": 5,
   "id": "6f699dcd-09d0-4a6e-9251-34fc42fb76b3",
   "metadata": {},
   "outputs": [],
   "source": [
    "def m1(name='Jose'):\n",
    "    print(\"Hello \"+name)"
   ]
  },
  {
   "cell_type": "code",
   "execution_count": 7,
   "id": "a59fb7aa-6c90-4218-b4e3-07e7a9b81a29",
   "metadata": {},
   "outputs": [
    {
     "name": "stdout",
     "output_type": "stream",
     "text": [
      "Hello Jose\n"
     ]
    }
   ],
   "source": [
    "m1()"
   ]
  },
  {
   "cell_type": "code",
   "execution_count": 9,
   "id": "c1752c3b-eb44-453d-856b-c8566ace45e8",
   "metadata": {},
   "outputs": [
    {
     "ename": "NameError",
     "evalue": "name 'Sri' is not defined",
     "output_type": "error",
     "traceback": [
      "\u001b[1;31m---------------------------------------------------------------------------\u001b[0m",
      "\u001b[1;31mNameError\u001b[0m                                 Traceback (most recent call last)",
      "Cell \u001b[1;32mIn[9], line 1\u001b[0m\n\u001b[1;32m----> 1\u001b[0m m1(Sri)\n",
      "\u001b[1;31mNameError\u001b[0m: name 'Sri' is not defined"
     ]
    }
   ],
   "source": [
    "m1(Sri)"
   ]
  },
  {
   "cell_type": "code",
   "execution_count": 11,
   "id": "b2c8a640-6857-4f7d-80b9-28afebc0f2fe",
   "metadata": {},
   "outputs": [
    {
     "name": "stdout",
     "output_type": "stream",
     "text": [
      "Hello Sri\n"
     ]
    }
   ],
   "source": [
    "m1('Sri')"
   ]
  },
  {
   "cell_type": "code",
   "execution_count": 13,
   "id": "4a2bcf52-701c-41f9-9505-47a5c3433d4e",
   "metadata": {},
   "outputs": [],
   "source": [
    "seq=[1,2,3,4]"
   ]
  },
  {
   "cell_type": "code",
   "execution_count": 21,
   "id": "7e7ecaa1-33a8-4499-b595-99a8cf3ac1be",
   "metadata": {},
   "outputs": [
    {
     "data": {
      "text/plain": [
       "[2, 4]"
      ]
     },
     "execution_count": 21,
     "metadata": {},
     "output_type": "execute_result"
    }
   ],
   "source": [
    "list(filter(lambda x:x%2==0,seq))"
   ]
  },
  {
   "cell_type": "code",
   "execution_count": null,
   "id": "3f5b4d95-de63-41c6-8786-e85d21f1b1c6",
   "metadata": {},
   "outputs": [],
   "source": []
  }
 ],
 "metadata": {
  "kernelspec": {
   "display_name": "Python 3 (ipykernel)",
   "language": "python",
   "name": "python3"
  },
  "language_info": {
   "codemirror_mode": {
    "name": "ipython",
    "version": 3
   },
   "file_extension": ".py",
   "mimetype": "text/x-python",
   "name": "python",
   "nbconvert_exporter": "python",
   "pygments_lexer": "ipython3",
   "version": "3.12.4"
  }
 },
 "nbformat": 4,
 "nbformat_minor": 5
}
