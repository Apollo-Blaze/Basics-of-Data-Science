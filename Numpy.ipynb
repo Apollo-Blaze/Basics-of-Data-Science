{
 "cells": [
  {
   "cell_type": "code",
   "execution_count": 1,
   "id": "3235ed1a-ba93-4b44-ad57-a7866ab13491",
   "metadata": {},
   "outputs": [],
   "source": [
    "import numpy as np"
   ]
  },
  {
   "cell_type": "code",
   "execution_count": 9,
   "id": "83480117-7599-49c3-ad94-c3032d8eaaad",
   "metadata": {},
   "outputs": [
    {
     "data": {
      "text/plain": [
       "array([0, 2, 4, 6, 8])"
      ]
     },
     "execution_count": 9,
     "metadata": {},
     "output_type": "execute_result"
    }
   ],
   "source": [
    "np.arange(0,10,2)"
   ]
  },
  {
   "cell_type": "code",
   "execution_count": 19,
   "id": "9ac06092-52fc-4b14-993c-c60bda2cf393",
   "metadata": {},
   "outputs": [
    {
     "data": {
      "text/plain": [
       "array([1., 2., 3., 4., 5.])"
      ]
     },
     "execution_count": 19,
     "metadata": {},
     "output_type": "execute_result"
    }
   ],
   "source": [
    "np.linspace(1,5,5)"
   ]
  },
  {
   "cell_type": "code",
   "execution_count": 21,
   "id": "73e8d3d4-bada-4347-b72f-2f94ee7adfc3",
   "metadata": {},
   "outputs": [
    {
     "data": {
      "text/plain": [
       "array([[1., 0., 0., 0., 0.],\n",
       "       [0., 1., 0., 0., 0.],\n",
       "       [0., 0., 1., 0., 0.],\n",
       "       [0., 0., 0., 1., 0.],\n",
       "       [0., 0., 0., 0., 1.]])"
      ]
     },
     "execution_count": 21,
     "metadata": {},
     "output_type": "execute_result"
    }
   ],
   "source": [
    "np.eye(5)\n"
   ]
  },
  {
   "cell_type": "code",
   "execution_count": 25,
   "id": "79e227f2-06f4-4414-bfb0-94742f6a5418",
   "metadata": {},
   "outputs": [
    {
     "data": {
      "text/plain": [
       "array([[16, 58, 24, 26],\n",
       "       [23, 27, 28, 34],\n",
       "       [30, 25, 54, 15],\n",
       "       [19, 58, 54,  9]])"
      ]
     },
     "execution_count": 25,
     "metadata": {},
     "output_type": "execute_result"
    }
   ],
   "source": [
    "np.random.randint(1,60,(4,4))"
   ]
  },
  {
   "cell_type": "code",
   "execution_count": 27,
   "id": "3f21c311-ad64-48e5-a123-3c1ad4eab717",
   "metadata": {},
   "outputs": [],
   "source": [
    "arr=np.random.randint(0,50,10)"
   ]
  },
  {
   "cell_type": "code",
   "execution_count": 29,
   "id": "49966836-8fad-4b9e-a7bc-8a7e3ba2b3f3",
   "metadata": {},
   "outputs": [
    {
     "data": {
      "text/plain": [
       "array([24, 35, 10,  6, 47, 31,  5, 11,  3, 17])"
      ]
     },
     "execution_count": 29,
     "metadata": {},
     "output_type": "execute_result"
    }
   ],
   "source": [
    "arr"
   ]
  },
  {
   "cell_type": "code",
   "execution_count": 33,
   "id": "89962efe-2624-468b-bfae-32e0a6be0ebc",
   "metadata": {},
   "outputs": [
    {
     "data": {
      "text/plain": [
       "array([[24, 35, 10,  6, 47],\n",
       "       [31,  5, 11,  3, 17]])"
      ]
     },
     "execution_count": 33,
     "metadata": {},
     "output_type": "execute_result"
    }
   ],
   "source": [
    "np.reshape(arr,(2,5))"
   ]
  },
  {
   "cell_type": "code",
   "execution_count": 35,
   "id": "4cc1b846-333c-4ca2-8627-16b735c1c692",
   "metadata": {},
   "outputs": [
    {
     "data": {
      "text/plain": [
       "47"
      ]
     },
     "execution_count": 35,
     "metadata": {},
     "output_type": "execute_result"
    }
   ],
   "source": [
    "arr.max()"
   ]
  },
  {
   "cell_type": "code",
   "execution_count": 37,
   "id": "af5f8cb6-d7b5-4018-88c5-0955a10bd83d",
   "metadata": {},
   "outputs": [
    {
     "data": {
      "text/plain": [
       "4"
      ]
     },
     "execution_count": 37,
     "metadata": {},
     "output_type": "execute_result"
    }
   ],
   "source": [
    "arr.argmax()"
   ]
  },
  {
   "cell_type": "code",
   "execution_count": 41,
   "id": "2c2cd119-7296-4189-9bb1-2e2d2f3e6401",
   "metadata": {},
   "outputs": [
    {
     "data": {
      "text/plain": [
       "(10,)"
      ]
     },
     "execution_count": 41,
     "metadata": {},
     "output_type": "execute_result"
    }
   ],
   "source": [
    "arr.shape"
   ]
  },
  {
   "cell_type": "code",
   "execution_count": 43,
   "id": "1591b585-c784-45d8-936f-9041a78cfd44",
   "metadata": {},
   "outputs": [],
   "source": [
    "arr=np.reshape(arr,(2,5))"
   ]
  },
  {
   "cell_type": "code",
   "execution_count": 45,
   "id": "f2059ff3-18a3-4d3d-a9ca-edd90dd60f89",
   "metadata": {},
   "outputs": [
    {
     "data": {
      "text/plain": [
       "(2, 5)"
      ]
     },
     "execution_count": 45,
     "metadata": {},
     "output_type": "execute_result"
    }
   ],
   "source": [
    "arr.shape"
   ]
  },
  {
   "cell_type": "code",
   "execution_count": 47,
   "id": "b38376be-22b1-41be-ad12-d83e2b065d2c",
   "metadata": {},
   "outputs": [],
   "source": [
    "a=np.arange(0,11)"
   ]
  },
  {
   "cell_type": "code",
   "execution_count": 49,
   "id": "846da68d-1724-4b52-8f6c-ede8afe78367",
   "metadata": {},
   "outputs": [
    {
     "data": {
      "text/plain": [
       "array([ 0,  1,  2,  3,  4,  5,  6,  7,  8,  9, 10])"
      ]
     },
     "execution_count": 49,
     "metadata": {},
     "output_type": "execute_result"
    }
   ],
   "source": [
    "a"
   ]
  },
  {
   "cell_type": "code",
   "execution_count": 51,
   "id": "57e14757-4696-4073-b514-913bfd64b747",
   "metadata": {},
   "outputs": [],
   "source": [
    "b=a[:5]"
   ]
  },
  {
   "cell_type": "code",
   "execution_count": 53,
   "id": "84d4ddbb-7096-4026-8fe5-e8c0b0cfd1a3",
   "metadata": {},
   "outputs": [
    {
     "data": {
      "text/plain": [
       "array([0, 1, 2, 3, 4])"
      ]
     },
     "execution_count": 53,
     "metadata": {},
     "output_type": "execute_result"
    }
   ],
   "source": [
    "b"
   ]
  },
  {
   "cell_type": "code",
   "execution_count": 55,
   "id": "8d7d1eb7-2a10-4ff5-a27b-972004173c09",
   "metadata": {},
   "outputs": [],
   "source": [
    "c=b.copy()"
   ]
  },
  {
   "cell_type": "code",
   "execution_count": 57,
   "id": "897d9256-03d6-45e6-ace6-2ddce0b39c8b",
   "metadata": {},
   "outputs": [
    {
     "data": {
      "text/plain": [
       "array([0, 1, 2, 3, 4])"
      ]
     },
     "execution_count": 57,
     "metadata": {},
     "output_type": "execute_result"
    }
   ],
   "source": [
    "c"
   ]
  },
  {
   "cell_type": "code",
   "execution_count": 59,
   "id": "b54c5ff2-1c91-463f-9968-1e6a09deb7b5",
   "metadata": {},
   "outputs": [],
   "source": [
    "c[:3]=5"
   ]
  },
  {
   "cell_type": "code",
   "execution_count": 61,
   "id": "bc3ee1e3-c07f-4c37-b79f-1fd17dda9986",
   "metadata": {},
   "outputs": [
    {
     "data": {
      "text/plain": [
       "array([5, 5, 5, 3, 4])"
      ]
     },
     "execution_count": 61,
     "metadata": {},
     "output_type": "execute_result"
    }
   ],
   "source": [
    "c"
   ]
  },
  {
   "cell_type": "code",
   "execution_count": 63,
   "id": "c58e07a7-5696-4df3-af21-2cdcff9695fe",
   "metadata": {},
   "outputs": [
    {
     "data": {
      "text/plain": [
       "array([0, 1, 2, 3, 4])"
      ]
     },
     "execution_count": 63,
     "metadata": {},
     "output_type": "execute_result"
    }
   ],
   "source": [
    "b"
   ]
  },
  {
   "cell_type": "code",
   "execution_count": 65,
   "id": "c6805bce-1af2-4910-8c16-f88c5c20a15e",
   "metadata": {},
   "outputs": [
    {
     "data": {
      "text/plain": [
       "array([ 0,  1,  2,  3,  4,  5,  6,  7,  8,  9, 10])"
      ]
     },
     "execution_count": 65,
     "metadata": {},
     "output_type": "execute_result"
    }
   ],
   "source": [
    "a"
   ]
  },
  {
   "cell_type": "code",
   "execution_count": 67,
   "id": "ff923532-f818-4678-88b9-05f1ec1bdc49",
   "metadata": {},
   "outputs": [],
   "source": [
    "b[:3]=5"
   ]
  },
  {
   "cell_type": "code",
   "execution_count": 69,
   "id": "0a162a1b-2ca8-4f3c-a31b-9d467a9ec59c",
   "metadata": {},
   "outputs": [
    {
     "data": {
      "text/plain": [
       "array([5, 5, 5, 3, 4])"
      ]
     },
     "execution_count": 69,
     "metadata": {},
     "output_type": "execute_result"
    }
   ],
   "source": [
    "b"
   ]
  },
  {
   "cell_type": "code",
   "execution_count": 71,
   "id": "55cb0359-770f-440f-8eef-4a3b18a5ed37",
   "metadata": {},
   "outputs": [
    {
     "data": {
      "text/plain": [
       "array([ 5,  5,  5,  3,  4,  5,  6,  7,  8,  9, 10])"
      ]
     },
     "execution_count": 71,
     "metadata": {},
     "output_type": "execute_result"
    }
   ],
   "source": [
    "a"
   ]
  },
  {
   "cell_type": "code",
   "execution_count": 125,
   "id": "2adc3faf-047a-4806-b56f-e97632486ded",
   "metadata": {},
   "outputs": [],
   "source": [
    "a=np.arange(0,15)"
   ]
  },
  {
   "cell_type": "code",
   "execution_count": 127,
   "id": "90990fb3-8cf1-4476-a178-c47333ccfe91",
   "metadata": {},
   "outputs": [
    {
     "data": {
      "text/plain": [
       "array([ 0,  1,  2,  3,  4,  5,  6,  7,  8,  9, 10, 11, 12, 13, 14])"
      ]
     },
     "execution_count": 127,
     "metadata": {},
     "output_type": "execute_result"
    }
   ],
   "source": [
    "np.array(a)"
   ]
  },
  {
   "cell_type": "code",
   "execution_count": 129,
   "id": "31fadcec-9d38-452d-8b29-a6a2f4fb05cf",
   "metadata": {},
   "outputs": [
    {
     "data": {
      "text/plain": [
       "(15,)"
      ]
     },
     "execution_count": 129,
     "metadata": {},
     "output_type": "execute_result"
    }
   ],
   "source": [
    "a.shape"
   ]
  },
  {
   "cell_type": "code",
   "execution_count": 131,
   "id": "be614834-8e01-4d3f-aab2-5f6741bd9787",
   "metadata": {},
   "outputs": [],
   "source": [
    "b=np.reshape(a,(3,5))"
   ]
  },
  {
   "cell_type": "code",
   "execution_count": 135,
   "id": "20c306df-6774-457a-b86c-13254043f401",
   "metadata": {},
   "outputs": [
    {
     "data": {
      "text/plain": [
       "(3, 5)"
      ]
     },
     "execution_count": 135,
     "metadata": {},
     "output_type": "execute_result"
    }
   ],
   "source": [
    "b.shape"
   ]
  },
  {
   "cell_type": "code",
   "execution_count": 137,
   "id": "a16d39e6-31a5-49a8-b133-435508d97d76",
   "metadata": {},
   "outputs": [
    {
     "data": {
      "text/plain": [
       "array([[ 0,  1,  2,  3,  4],\n",
       "       [ 5,  6,  7,  8,  9],\n",
       "       [10, 11, 12, 13, 14]])"
      ]
     },
     "execution_count": 137,
     "metadata": {},
     "output_type": "execute_result"
    }
   ],
   "source": [
    "b"
   ]
  },
  {
   "cell_type": "code",
   "execution_count": 151,
   "id": "957ab276-1040-4614-9f01-57f089f04f11",
   "metadata": {},
   "outputs": [
    {
     "data": {
      "text/plain": [
       "array([[1, 2],\n",
       "       [6, 7]])"
      ]
     },
     "execution_count": 151,
     "metadata": {},
     "output_type": "execute_result"
    }
   ],
   "source": [
    "b[:2,1:3]"
   ]
  },
  {
   "cell_type": "code",
   "execution_count": 157,
   "id": "f5e08af9-84f2-42f1-afd8-2a41dd9df3d0",
   "metadata": {},
   "outputs": [],
   "source": [
    "a=np.arange(1,11)"
   ]
  },
  {
   "cell_type": "code",
   "execution_count": 159,
   "id": "6a8c2574-f94a-400b-8923-e300de7a9d83",
   "metadata": {},
   "outputs": [
    {
     "data": {
      "text/plain": [
       "array([ 1,  2,  3,  4,  5,  6,  7,  8,  9, 10])"
      ]
     },
     "execution_count": 159,
     "metadata": {},
     "output_type": "execute_result"
    }
   ],
   "source": [
    "a"
   ]
  },
  {
   "cell_type": "code",
   "execution_count": 161,
   "id": "c6b9764a-4bf9-4148-a21c-ff0277aca276",
   "metadata": {},
   "outputs": [],
   "source": [
    "boo=a>3"
   ]
  },
  {
   "cell_type": "code",
   "execution_count": 163,
   "id": "77587035-2318-4ef6-b4d1-e1e9dfec910a",
   "metadata": {},
   "outputs": [
    {
     "data": {
      "text/plain": [
       "array([False, False, False,  True,  True,  True,  True,  True,  True,\n",
       "        True])"
      ]
     },
     "execution_count": 163,
     "metadata": {},
     "output_type": "execute_result"
    }
   ],
   "source": [
    "boo"
   ]
  },
  {
   "cell_type": "code",
   "execution_count": 171,
   "id": "e086e6eb-c419-498e-9ee0-4cbd87a6db64",
   "metadata": {},
   "outputs": [
    {
     "data": {
      "text/plain": [
       "array([1, 2, 3])"
      ]
     },
     "execution_count": 171,
     "metadata": {},
     "output_type": "execute_result"
    }
   ],
   "source": [
    "a[boo==False]"
   ]
  },
  {
   "cell_type": "code",
   "execution_count": null,
   "id": "054d8fde-b532-4882-8267-b173eab3aada",
   "metadata": {},
   "outputs": [],
   "source": []
  }
 ],
 "metadata": {
  "kernelspec": {
   "display_name": "Python 3 (ipykernel)",
   "language": "python",
   "name": "python3"
  },
  "language_info": {
   "codemirror_mode": {
    "name": "ipython",
    "version": 3
   },
   "file_extension": ".py",
   "mimetype": "text/x-python",
   "name": "python",
   "nbconvert_exporter": "python",
   "pygments_lexer": "ipython3",
   "version": "3.12.4"
  }
 },
 "nbformat": 4,
 "nbformat_minor": 5
}
